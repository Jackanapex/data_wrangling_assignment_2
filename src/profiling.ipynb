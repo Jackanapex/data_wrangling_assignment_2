{
 "cells": [
  {
   "cell_type": "code",
   "execution_count": 1,
   "metadata": {},
   "outputs": [],
   "source": [
    "import re\n",
    "import pandas as pd\n",
    "import os"
   ]
  },
  {
   "cell_type": "code",
   "execution_count": 2,
   "metadata": {},
   "outputs": [],
   "source": [
    "INPUT = 'input'\n",
    "MAILDIR = 'maildir'\n",
    "input_dir = os.path.join(\n",
    "    os.path.abspath('..'),\n",
    "    INPUT,\n",
    "    MAILDIR\n",
    ")\n",
    "df = pd.DataFrame(columns=['user', 'folder', 'file_name', 'content'])\n",
    "# iterate through the input_dir and save the first level of directories as user, the second level as folder,\n",
    "# the third level as file_name, and the content of the files as content\n",
    "loc_i = 0\n",
    "for root, dirs, files in os.walk(input_dir):\n",
    "    if files:\n",
    "        folder_split = os.path.split(root)\n",
    "        user_split = os.path.split(folder_split[0])\n",
    "        for file in files:\n",
    "            df.loc[loc_i, 'user'] = user_split[1]\n",
    "            df.loc[loc_i, 'folder'] = folder_split[1]\n",
    "            df.loc[loc_i, 'file_name'] = file\n",
    "            df.loc[loc_i, 'content'] = os.path.join(root,file)\n",
    "            loc_i += 1\n",
    "\n",
    "# then we open each file and extract the fields from the first 15 lines (check first)"
   ]
  }
 ],
 "metadata": {
  "kernelspec": {
   "display_name": "venv",
   "language": "python",
   "name": "python3"
  },
  "language_info": {
   "codemirror_mode": {
    "name": "ipython",
    "version": 3
   },
   "file_extension": ".py",
   "mimetype": "text/x-python",
   "name": "python",
   "nbconvert_exporter": "python",
   "pygments_lexer": "ipython3",
   "version": "3.8.10"
  },
  "orig_nbformat": 4
 },
 "nbformat": 4,
 "nbformat_minor": 2
}

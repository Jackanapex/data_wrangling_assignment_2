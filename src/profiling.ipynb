{
 "cells": [
  {
   "cell_type": "code",
   "execution_count": 1,
   "metadata": {},
   "outputs": [],
   "source": [
    "import re\n",
    "import pandas as pd\n",
    "import os\n",
    "import numpy as np\n",
    "from datetime import datetime\n",
    "from IPython.display import display, clear_output\n",
    "from email.utils import parsedate_to_datetime"
   ]
  },
  {
   "cell_type": "code",
   "execution_count": 2,
   "metadata": {},
   "outputs": [],
   "source": [
    "def _extract_email_metadata(filename):\n",
    "    meta_output = {\n",
    "        'Message-ID':None,\n",
    "        'Date':None,\n",
    "        'From':None,\n",
    "        'To':None,\n",
    "        'Cc':None,\n",
    "        'Bcc':None,\n",
    "        'Subject':None,\n",
    "        'Mime-Version':None,\n",
    "        'Content-Type':None,\n",
    "        'Content-Transfer-Encoding':None,\n",
    "        'X-From':None,\n",
    "        'X-To':None,\n",
    "        'X-cc':None,\n",
    "        'X-bcc':None,\n",
    "        'X-Folder':None,\n",
    "        'X-Origin':None,\n",
    "        'X-FileName':None\n",
    "    }\n",
    "    with open(filename, 'r', encoding='utf-8', errors='ignore') as file:\n",
    "        content = file.read()\n",
    "    _message_id = re.search(r\"^Message-ID:[^\\S\\r\\n]+(.*)$\", content, flags=re.MULTILINE)\n",
    "    _date =  re.search(r\"^Date:[^\\S\\r\\n]+(.*)$\", content, flags=re.MULTILINE)\n",
    "    _from = re.search(r\"^From:[^\\S\\r\\n]+(.*?)(?=[\\r\\n]^To|[\\r\\n]^Subject|[\\r\\n]^Cc|[\\r\\n]^Mime-Version)\", content, flags=re.MULTILINE | re.DOTALL)\n",
    "    _to = re.search(r\"^From:[^\\S\\r\\n]+\\S*?[\\r\\n]{1}^To:[^\\S\\r\\n]+(.*?)(?=[\\r\\n]^Subject|[\\r\\n]^Cc|[\\r\\n]^Mime-Version)\", content, flags=re.MULTILINE | re.DOTALL)\n",
    "    _subject = re.search(r\"^Subject:[^\\S\\r\\n]+(.*?)(?=[\\r\\n]^Cc|[\\r\\n]^Mime-Version)\", content, flags=re.MULTILINE | re.DOTALL)\n",
    "    _cc = re.search(r\"^Cc:[^\\S\\r\\n]+(.*?)(?=[\\r\\n]^Mime-Version)\", content, flags=re.MULTILINE | re.DOTALL)\n",
    "    _mime_version = re.search(r\"^Mime-Version:[^\\S\\r\\n]+(.*)$\", content, flags=re.MULTILINE)\n",
    "    _content_type = re.search(r\"^Content-Type:[^\\S\\r\\n]+(.*)$\", content, flags=re.MULTILINE)\n",
    "    _content_transfer_encoding = re.search(r\"^Content-Transfer-Encoding:[^\\S\\r\\n]+(.*)$\", content, flags=re.MULTILINE)\n",
    "    _bcc = re.search(r\"^Bcc:[^\\S\\r\\n]+(.*?)(?=[\\r\\n]^X-From)\", content, flags=re.MULTILINE | re.DOTALL)\n",
    "    _x_from = re.search(r\"^X-From:[^\\S\\r\\n]+(.*)$\", content, flags=re.MULTILINE)\n",
    "    _x_to = re.search(r\"^X-To:[^\\S\\r\\n]+(.*)$\", content, flags=re.MULTILINE)\n",
    "    _x_cc = re.search(r\"^X-cc:[^\\S\\r\\n]+(.*)$\", content, flags=re.MULTILINE)\n",
    "    _x_bcc = re.search(r\"^X-bcc:[^\\S\\r\\n]+(.*)$\", content, flags=re.MULTILINE)\n",
    "    _x_folder = re.search(r\"^X-Folder:[^\\S\\r\\n]+(.*)$\", content, flags=re.MULTILINE)\n",
    "    _x_origin = re.search(r\"^X-Origin:[^\\S\\r\\n]+(.*)$\", content, flags=re.MULTILINE)\n",
    "    _x_filename = re.search(r\"^X-FileName:[^\\S\\r\\n]+(.*)$\", content, flags=re.MULTILINE)\n",
    "    \n",
    "    meta_output['Message-ID'] = _message_id.group(1) if _message_id else None\n",
    "    meta_output['Date'] =  _date.group(1) if _date else None\n",
    "    meta_output['From'] = _from.group(1) if _from else None\n",
    "    meta_output['To'] = _to.group(1) if _to else None\n",
    "    meta_output['Cc'] = _cc.group(1) if _cc else None\n",
    "    meta_output['Bcc'] = _bcc.group(1) if _bcc else None\n",
    "    meta_output['Subject'] = _subject.group(1) if _subject else None\n",
    "    meta_output['Mime-Version'] = _mime_version.group(1) if _mime_version else None\n",
    "    meta_output['Content-Type'] = _content_type.group(1) if _content_type else None\n",
    "    meta_output['Content-Transfer-Encoding'] = _content_transfer_encoding.group(1) if _content_transfer_encoding else None\n",
    "    meta_output['X-From'] = _x_from.group(1) if _x_from else None\n",
    "    meta_output['X-To'] = _x_to.group(1) if _x_to else None\n",
    "    meta_output['X-cc'] = _x_cc.group(1) if _x_cc else None\n",
    "    meta_output['X-bcc'] = _x_bcc.group(1) if _x_bcc else None\n",
    "    meta_output['X-Folder'] = _x_folder.group(1) if _x_folder else None\n",
    "    meta_output['X-Origin'] = _x_origin.group(1) if _x_origin else None\n",
    "    meta_output['X-FileName'] = _x_filename.group(1) if _x_filename else None\n",
    "\n",
    "    return meta_output\n",
    "    "
   ]
  },
  {
   "cell_type": "code",
   "execution_count": 3,
   "metadata": {},
   "outputs": [],
   "source": [
    "def _get_path_after_target(path, target=\"maildir\"):\n",
    "    # Split the path into its individual components\n",
    "    parts = path.split(os.sep)\n",
    "\n",
    "    # Check if the target exists in the parts\n",
    "    if target in parts:\n",
    "        # Get the index of the target\n",
    "        target_index = parts.index(target)\n",
    "\n",
    "        # Return the path one level after target if it exists\n",
    "        if target_index + 2 < len(parts):\n",
    "            return os.path.join(*[parts[i] for i in range(target_index + 2, len(parts))])\n",
    "\n",
    "    return np.nan"
   ]
  },
  {
   "cell_type": "code",
   "execution_count": 4,
   "metadata": {},
   "outputs": [],
   "source": [
    "def _get_folder_after_target(path, target=\"maildir\"):\n",
    "    # Split the path into its individual components\n",
    "    parts = path.split(os.sep)\n",
    "\n",
    "    # Check if the target exists in the parts\n",
    "    if target in parts:\n",
    "        # Get the index of the target\n",
    "        target_index = parts.index(target)\n",
    "\n",
    "        # Return the next folder if it exists\n",
    "        if target_index + 1 < len(parts):\n",
    "            return parts[target_index + 1]\n",
    "\n",
    "    return np.nan"
   ]
  },
  {
   "cell_type": "code",
   "execution_count": 5,
   "metadata": {},
   "outputs": [],
   "source": [
    "def _reset_structured_df():\n",
    "    df_output = pd.DataFrame(columns=[\n",
    "        'maildir_user', \n",
    "        'maildir_folder', \n",
    "        'maildir_file_name', \n",
    "        'maildir_path',\n",
    "        'Message-ID',\n",
    "        'Date',\n",
    "        'From',\n",
    "        'To',\n",
    "        'Cc',\n",
    "        'Bcc',\n",
    "        'Subject',\n",
    "        'Mime-Version',\n",
    "        'Content-Type',\n",
    "        'Content-Transfer-Encoding',\n",
    "        'X-From',\n",
    "        'X-To',\n",
    "        'X-cc',\n",
    "        'X-bcc',\n",
    "        'X-Folder',\n",
    "        'X-Origin',\n",
    "        'X-FileName',\n",
    "        'import_result'\n",
    "    ])\n",
    "    return df_output"
   ]
  },
  {
   "cell_type": "code",
   "execution_count": 8,
   "metadata": {},
   "outputs": [],
   "source": [
    "# Define the path to the input and output directories and files\n",
    "INPUT = 'input'\n",
    "MAILDIR = 'maildir'\n",
    "OUTPUT = 'output'\n",
    "STRUCTURED_DATA = 'structured_data_'\n",
    "PROFILING_OUTPUT = 'profiling_output_'\n",
    "IMPORT_SUCCESS = 'SUCCESS'\n",
    "\n",
    "input_dir = os.path.join(\n",
    "    os.path.abspath('..'),\n",
    "    INPUT,\n",
    "    MAILDIR\n",
    ")\n",
    "output_dir = os.path.join(\n",
    "    os.path.abspath('..'),\n",
    "    OUTPUT\n",
    ")\n",
    "structured_data_output_path = os.path.join(\n",
    "    os.path.abspath('..'),\n",
    "    OUTPUT,\n",
    "    STRUCTURED_DATA + datetime.now().strftime(\"%Y%m%d_%H%M%S\")\n",
    ")\n",
    "profiling_output_path = os.path.join(\n",
    "    os.path.abspath('..'),\n",
    "    OUTPUT,\n",
    "    PROFILING_OUTPUT + datetime.now().strftime(\"%Y%m%d_%H%M%S\") + '.csv'\n",
    ")\n"
   ]
  },
  {
   "cell_type": "code",
   "execution_count": null,
   "metadata": {},
   "outputs": [],
   "source": [
    "# iterate through the input_dir and save the first level of directories as user, the second level as folder,\n",
    "# the third level as file_name, and the content of the files as content\n",
    "loc_i = 0\n",
    "start_time = datetime.now()\n",
    "processed_count = 0\n",
    "this_user = None\n",
    "df = _reset_structured_df()\n",
    "for root, dirs, files in os.walk(input_dir):\n",
    "    try:\n",
    "        if files:\n",
    "            next_user = _get_folder_after_target(root)\n",
    "            folder_tail = _get_path_after_target(root)\n",
    "            if next_user != this_user:\n",
    "                if df.shape[0] > 0:\n",
    "                    df.to_csv(f\"{structured_data_output_path}_{this_user}_{loc_i}.csv\", index=False)\n",
    "                    df = _reset_structured_df()\n",
    "                this_user = next_user\n",
    "                loc_i = 0\n",
    "            for file in files:\n",
    "                df.loc[loc_i, 'maildir_user'] = next_user\n",
    "                df.loc[loc_i, 'maildir_folder'] = folder_tail\n",
    "                df.loc[loc_i, 'maildir_file_name'] = file\n",
    "                df.loc[loc_i, 'maildir_path'] = os.path.join(root,file)\n",
    "                content = _extract_email_metadata(os.path.join(root,file))\n",
    "                for k,v in content.items():\n",
    "                    df.loc[loc_i, k] = v\n",
    "                df.loc[loc_i, 'import_result'] = IMPORT_SUCCESS\n",
    "                loc_i += 1\n",
    "                processed_count += 1\n",
    "                if processed_count % 10000 == 0:\n",
    "                    clear_output(wait=True)\n",
    "                    display(f\"{processed_count} files imported, the last 10000 took {datetime.now() - start_time}\")\n",
    "                    start_time = datetime.now()\n",
    "    except Exception as e:\n",
    "        df.loc[loc_i, 'import_result'] = f\"ERROR:{e} | ROOT:{root} | FILE:{file}\"\n",
    "        continue\n",
    "if df.shape[0] > 0:\n",
    "    df.to_csv(f\"{structured_data_output_path}_{this_user}_{loc_i}.csv\", index=False)\n",
    "# now save the csv to a file\n"
   ]
  },
  {
   "cell_type": "markdown",
   "metadata": {},
   "source": [
    "### Load the structured data souce"
   ]
  },
  {
   "cell_type": "code",
   "execution_count": 9,
   "metadata": {},
   "outputs": [],
   "source": [
    "# this block is needed if we'd like to read the df from some existing\n",
    "# data files saved in csv format\n",
    "# provide the saved structured data csv file name regex pattern\n",
    "STRUCTURED_DATA_FN_PATTERN = '^structured_data_'\n",
    "list_of_df = []\n",
    "for root, dirs, files in os.walk(output_dir):\n",
    "    if files:\n",
    "        for file in files:\n",
    "            if re.match(STRUCTURED_DATA_FN_PATTERN, file) is not None:\n",
    "                this_df = pd.read_csv(os.path.join(root,file), index_col=None, header=0)\n",
    "                list_of_df.append(this_df)\n",
    "df = pd.concat(list_of_df, axis=0, ignore_index=True)"
   ]
  },
  {
   "cell_type": "markdown",
   "metadata": {},
   "source": [
    "### Apply simple conversions to the lists of email addresses"
   ]
  },
  {
   "cell_type": "code",
   "execution_count": 10,
   "metadata": {},
   "outputs": [],
   "source": [
    "# convert the comma delimited emails in the From, To, Cc and Bcc fields into lists\n",
    "# so they can be sorted alphabetically, this will make sure the duplicate values of the To\n",
    "# Cc and Bcc lists can be properly detected regardless of the order of the elements\n",
    "df['From'] = df['From'].apply(lambda x: ','.join(sorted([re.sub(r'[\\r\\n\\s]+','',i) for i in x.split(',')])) if type(x) == str else x)\n",
    "df['To'] = df['To'].apply(lambda x: ','.join(sorted([re.sub(r'[\\r\\n\\s]+','',i) for i in x.split(',')])) if type(x) == str else x)\n",
    "df['Cc'] = df['Cc'].apply(lambda x: ','.join(sorted([re.sub(r'[\\r\\n\\s]+','',i) for i in x.split(',')])) if type(x) == str else x)\n",
    "df['Bcc'] = df['Bcc'].apply(lambda x: ','.join(sorted([re.sub(r'[\\r\\n\\s]+','',i) for i in x.split(',')])) if type(x) == str else x)\n",
    "# Also parse the Date values into UTC datetime stamps so they are comparable\n",
    "df['Date'] = df['Date'].apply(lambda x: parsedate_to_datetime(x) if type(x) == str else x)"
   ]
  },
  {
   "cell_type": "markdown",
   "metadata": {},
   "source": [
    "### Data profiling"
   ]
  },
  {
   "cell_type": "code",
   "execution_count": 11,
   "metadata": {},
   "outputs": [
    {
     "data": {
      "text/plain": [
       "maildir_user                  object\n",
       "maildir_folder                object\n",
       "maildir_file_name            float64\n",
       "maildir_path                  object\n",
       "Message-ID                    object\n",
       "Date                          object\n",
       "From                          object\n",
       "To                            object\n",
       "Cc                            object\n",
       "Bcc                           object\n",
       "Subject                       object\n",
       "Mime-Version                 float64\n",
       "Content-Type                  object\n",
       "Content-Transfer-Encoding     object\n",
       "X-From                        object\n",
       "X-To                          object\n",
       "X-cc                          object\n",
       "X-bcc                         object\n",
       "X-Folder                      object\n",
       "X-Origin                      object\n",
       "X-FileName                    object\n",
       "import_result                 object\n",
       "dtype: object"
      ]
     },
     "execution_count": 11,
     "metadata": {},
     "output_type": "execute_result"
    }
   ],
   "source": [
    "df.dtypes"
   ]
  },
  {
   "cell_type": "code",
   "execution_count": 12,
   "metadata": {},
   "outputs": [
    {
     "data": {
      "text/plain": [
       "maildir_user                      0\n",
       "maildir_folder                    7\n",
       "maildir_file_name                 0\n",
       "maildir_path                      0\n",
       "Message-ID                        0\n",
       "Date                              0\n",
       "From                              0\n",
       "To                            23302\n",
       "Cc                           389291\n",
       "Bcc                          389520\n",
       "Subject                       19186\n",
       "Mime-Version                      0\n",
       "Content-Type                      0\n",
       "Content-Transfer-Encoding         0\n",
       "X-From                            0\n",
       "X-To                           9146\n",
       "X-cc                         388515\n",
       "X-bcc                        517226\n",
       "X-Folder                          0\n",
       "X-Origin                          0\n",
       "X-FileName                     4143\n",
       "import_result                     0\n",
       "dtype: int64"
      ]
     },
     "execution_count": 12,
     "metadata": {},
     "output_type": "execute_result"
    }
   ],
   "source": [
    "df.isna().sum()"
   ]
  },
  {
   "cell_type": "code",
   "execution_count": 13,
   "metadata": {},
   "outputs": [
    {
     "data": {
      "text/plain": [
       "0"
      ]
     },
     "execution_count": 13,
     "metadata": {},
     "output_type": "execute_result"
    }
   ],
   "source": [
    "df.duplicated().sum()"
   ]
  },
  {
   "cell_type": "code",
   "execution_count": null,
   "metadata": {},
   "outputs": [],
   "source": [
    "# Profiling the data\n",
    "# Message-ID is unique\n",
    "df['Message-ID'].nunique()\n"
   ]
  },
  {
   "cell_type": "code",
   "execution_count": 24,
   "metadata": {},
   "outputs": [],
   "source": [
    "# Verify the unique-ness of messages - the same email can be determined by the same combination of\n",
    "# From, To, Cc, Bcc, Date and Subject\n",
    "df_extracted = df.groupby(['From', 'To', 'Cc', 'Bcc', 'Date', 'Subject']).size().reset_index().rename(columns={0:'count'})"
   ]
  }
 ],
 "metadata": {
  "kernelspec": {
   "display_name": "venv",
   "language": "python",
   "name": "python3"
  },
  "language_info": {
   "codemirror_mode": {
    "name": "ipython",
    "version": 3
   },
   "file_extension": ".py",
   "mimetype": "text/x-python",
   "name": "python",
   "nbconvert_exporter": "python",
   "pygments_lexer": "ipython3",
   "version": "3.8.10"
  },
  "orig_nbformat": 4
 },
 "nbformat": 4,
 "nbformat_minor": 2
}
